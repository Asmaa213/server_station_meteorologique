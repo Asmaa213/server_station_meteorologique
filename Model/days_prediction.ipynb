{
 "cells": [
  {
   "cell_type": "code",
   "execution_count": 1,
   "id": "7d82bbc1",
   "metadata": {},
   "outputs": [],
   "source": [
    "import pandas as pd\n",
    "\n",
    "\n",
    "weather = pd.read_csv(\"../Data/Weather_Data.csv\")"
   ]
  },
  {
   "cell_type": "code",
   "execution_count": 2,
   "id": "8a0f1aa3",
   "metadata": {},
   "outputs": [],
   "source": [
    "df=weather "
   ]
  },
  {
   "cell_type": "code",
   "execution_count": 3,
   "id": "d8e36fc0",
   "metadata": {},
   "outputs": [
    {
     "name": "stdout",
     "output_type": "stream",
     "text": [
      "           Date  Temp_C\n",
      "0    2012-01-01     0.6\n",
      "1    2012-01-02     0.0\n",
      "2    2012-01-03   -14.4\n",
      "3    2012-01-04   -13.6\n",
      "4    2012-01-05    -6.8\n",
      "..          ...     ...\n",
      "361  2012-12-27    -5.8\n",
      "362  2012-12-28    -6.8\n",
      "363  2012-12-29   -11.3\n",
      "364  2012-12-30   -11.4\n",
      "365  2012-12-31    -5.6\n",
      "\n",
      "[366 rows x 2 columns]\n"
     ]
    }
   ],
   "source": [
    "import pandas as pd\n",
    "\n",
    "# Supposons que votre DataFrame s'appelle df et que la colonne date/heure est 'Date/Time'\n",
    "df['Date/Time'] = pd.to_datetime(df['Date/Time'])\n",
    "\n",
    "# Extraire la date de la colonne 'Date/Time'\n",
    "df['Date'] = df['Date/Time'].dt.date\n",
    "\n",
    "# Calculer la moyenne de la température pour chaque jour\n",
    "daily_avg_temp = df.groupby('Date')['Temp_C'].mean().reset_index()\n",
    "daily_avg_temp['Temp_C'] = daily_avg_temp['Temp_C'].round(1)\n",
    "\n",
    "# Afficher les moyennes de température quotidiennes\n",
    "print(daily_avg_temp)\n"
   ]
  },
  {
   "cell_type": "code",
   "execution_count": 4,
   "id": "e009f77e",
   "metadata": {},
   "outputs": [
    {
     "name": "stdout",
     "output_type": "stream",
     "text": [
      "           Date  Temp_C  Rel Hum_%  Wind Speed_km/h\n",
      "0    2012-01-01     0.6         86               13\n",
      "1    2012-01-02     0.0         63               31\n",
      "2    2012-01-03   -14.4         55               22\n",
      "3    2012-01-04   -13.6         63               10\n",
      "4    2012-01-05    -6.8         70               12\n",
      "..          ...     ...        ...              ...\n",
      "361  2012-12-27    -5.8         89               35\n",
      "362  2012-12-28    -6.8         83               18\n",
      "363  2012-12-29   -11.3         89               15\n",
      "364  2012-12-30   -11.4         80               22\n",
      "365  2012-12-31    -5.6         85               13\n",
      "\n",
      "[366 rows x 4 columns]\n"
     ]
    }
   ],
   "source": [
    "# Calculer la moyenne de l'humidité et de la vitesse du vent par jour\n",
    "daily_avg_humidity = df.groupby('Date')['Rel Hum_%'].mean().reset_index()\n",
    "daily_avg_wind_speed = df.groupby('Date')['Wind Speed_km/h'].mean().reset_index()\n",
    "\n",
    "# Renommer les colonnes\n",
    "daily_avg_temp=daily_avg_temp.rename(columns={'Temp_C':'Temp_C'})\n",
    "daily_avg_humidity = daily_avg_humidity.rename(columns={'Rel Hum_%': 'Rel Hum_%'})\n",
    "daily_avg_wind_speed = daily_avg_wind_speed.rename(columns={'Wind Speed_km/h': 'Wind Speed_km/h'})\n",
    "\n",
    "# Arrondir les valeurs moyennes et les convertir en entiers\n",
    "daily_avg_humidity['Rel Hum_%'] = daily_avg_humidity['Rel Hum_%'].round().astype(int)\n",
    "daily_avg_wind_speed['Wind Speed_km/h'] = daily_avg_wind_speed['Wind Speed_km/h'].round().astype(int)\n",
    "\n",
    "# Fusionner les DataFrames\n",
    "daily_avg_temp = pd.merge(daily_avg_temp, daily_avg_humidity, on='Date')\n",
    "daily_avg_temp = pd.merge(daily_avg_temp, daily_avg_wind_speed, on='Date')\n",
    "\n",
    "# Afficher le DataFrame final\n",
    "print(daily_avg_temp)\n"
   ]
  },
  {
   "cell_type": "code",
   "execution_count": 5,
   "id": "132735f4",
   "metadata": {},
   "outputs": [
    {
     "name": "stdout",
     "output_type": "stream",
     "text": [
      "           Date  Temp_C  Rel Hum_%  Wind Speed_km/h\n",
      "0    2012-01-01     0.6         86               13\n",
      "1    2012-01-02     0.0         63               31\n",
      "2    2012-01-03   -14.4         55               22\n",
      "3    2012-01-04   -13.6         63               10\n",
      "4    2012-01-05    -6.8         70               12\n",
      "..          ...     ...        ...              ...\n",
      "361  2012-12-27    -5.8         89               35\n",
      "362  2012-12-28    -6.8         83               18\n",
      "363  2012-12-29   -11.3         89               15\n",
      "364  2012-12-30   -11.4         80               22\n",
      "365  2012-12-31    -5.6         85               13\n",
      "\n",
      "[366 rows x 4 columns]\n"
     ]
    }
   ],
   "source": [
    "print(daily_avg_temp)\n"
   ]
  },
  {
   "cell_type": "code",
   "execution_count": 6,
   "id": "0f05929a",
   "metadata": {},
   "outputs": [
    {
     "name": "stdout",
     "output_type": "stream",
     "text": [
      "Date               0\n",
      "Temp_C             0\n",
      "Rel Hum_%          0\n",
      "Wind Speed_km/h    0\n",
      "dtype: int64\n"
     ]
    }
   ],
   "source": [
    "# Vérifier à nouveau les valeurs nulles dans le DataFrame\n",
    "null_values = daily_avg_temp.isnull().sum()\n",
    "\n",
    "# Afficher le nombre de valeurs nulles pour chaque colonne\n",
    "print(null_values)"
   ]
  },
  {
   "cell_type": "code",
   "execution_count": 7,
   "id": "6ddd99a7",
   "metadata": {},
   "outputs": [],
   "source": [
    "daily_avg_temp[\"target_tmp\"] = daily_avg_temp.shift(-1)[\"Temp_C\"]\n",
    "daily_avg_temp = daily_avg_temp.ffill()\n",
    "\n",
    "daily_avg_temp[\"target_hum\"] = daily_avg_temp.shift(-1)[\"Rel Hum_%\"]\n",
    "daily_avg_temp = daily_avg_temp.ffill()\n",
    "\n",
    "daily_avg_temp[\"target_vent\"] = daily_avg_temp.shift(-1)[\"Wind Speed_km/h\"]\n",
    "daily_avg_temp = daily_avg_temp.ffill()\n",
    "\n"
   ]
  },
  {
   "cell_type": "code",
   "execution_count": 8,
   "id": "f645be3b",
   "metadata": {},
   "outputs": [
    {
     "data": {
      "text/html": [
       "<div>\n",
       "<style scoped>\n",
       "    .dataframe tbody tr th:only-of-type {\n",
       "        vertical-align: middle;\n",
       "    }\n",
       "\n",
       "    .dataframe tbody tr th {\n",
       "        vertical-align: top;\n",
       "    }\n",
       "\n",
       "    .dataframe thead th {\n",
       "        text-align: right;\n",
       "    }\n",
       "</style>\n",
       "<table border=\"1\" class=\"dataframe\">\n",
       "  <thead>\n",
       "    <tr style=\"text-align: right;\">\n",
       "      <th></th>\n",
       "      <th>Date</th>\n",
       "      <th>Temp_C</th>\n",
       "      <th>Rel Hum_%</th>\n",
       "      <th>Wind Speed_km/h</th>\n",
       "      <th>target_tmp</th>\n",
       "      <th>target_hum</th>\n",
       "      <th>target_vent</th>\n",
       "    </tr>\n",
       "  </thead>\n",
       "  <tbody>\n",
       "    <tr>\n",
       "      <th>0</th>\n",
       "      <td>2012-01-01</td>\n",
       "      <td>0.6</td>\n",
       "      <td>86</td>\n",
       "      <td>13</td>\n",
       "      <td>0.0</td>\n",
       "      <td>63.0</td>\n",
       "      <td>31.0</td>\n",
       "    </tr>\n",
       "    <tr>\n",
       "      <th>1</th>\n",
       "      <td>2012-01-02</td>\n",
       "      <td>0.0</td>\n",
       "      <td>63</td>\n",
       "      <td>31</td>\n",
       "      <td>-14.4</td>\n",
       "      <td>55.0</td>\n",
       "      <td>22.0</td>\n",
       "    </tr>\n",
       "    <tr>\n",
       "      <th>2</th>\n",
       "      <td>2012-01-03</td>\n",
       "      <td>-14.4</td>\n",
       "      <td>55</td>\n",
       "      <td>22</td>\n",
       "      <td>-13.6</td>\n",
       "      <td>63.0</td>\n",
       "      <td>10.0</td>\n",
       "    </tr>\n",
       "    <tr>\n",
       "      <th>3</th>\n",
       "      <td>2012-01-04</td>\n",
       "      <td>-13.6</td>\n",
       "      <td>63</td>\n",
       "      <td>10</td>\n",
       "      <td>-6.8</td>\n",
       "      <td>70.0</td>\n",
       "      <td>12.0</td>\n",
       "    </tr>\n",
       "    <tr>\n",
       "      <th>4</th>\n",
       "      <td>2012-01-05</td>\n",
       "      <td>-6.8</td>\n",
       "      <td>70</td>\n",
       "      <td>12</td>\n",
       "      <td>-11.1</td>\n",
       "      <td>73.0</td>\n",
       "      <td>17.0</td>\n",
       "    </tr>\n",
       "    <tr>\n",
       "      <th>...</th>\n",
       "      <td>...</td>\n",
       "      <td>...</td>\n",
       "      <td>...</td>\n",
       "      <td>...</td>\n",
       "      <td>...</td>\n",
       "      <td>...</td>\n",
       "      <td>...</td>\n",
       "    </tr>\n",
       "    <tr>\n",
       "      <th>361</th>\n",
       "      <td>2012-12-27</td>\n",
       "      <td>-5.8</td>\n",
       "      <td>89</td>\n",
       "      <td>35</td>\n",
       "      <td>-6.8</td>\n",
       "      <td>83.0</td>\n",
       "      <td>18.0</td>\n",
       "    </tr>\n",
       "    <tr>\n",
       "      <th>362</th>\n",
       "      <td>2012-12-28</td>\n",
       "      <td>-6.8</td>\n",
       "      <td>83</td>\n",
       "      <td>18</td>\n",
       "      <td>-11.3</td>\n",
       "      <td>89.0</td>\n",
       "      <td>15.0</td>\n",
       "    </tr>\n",
       "    <tr>\n",
       "      <th>363</th>\n",
       "      <td>2012-12-29</td>\n",
       "      <td>-11.3</td>\n",
       "      <td>89</td>\n",
       "      <td>15</td>\n",
       "      <td>-11.4</td>\n",
       "      <td>80.0</td>\n",
       "      <td>22.0</td>\n",
       "    </tr>\n",
       "    <tr>\n",
       "      <th>364</th>\n",
       "      <td>2012-12-30</td>\n",
       "      <td>-11.4</td>\n",
       "      <td>80</td>\n",
       "      <td>22</td>\n",
       "      <td>-5.6</td>\n",
       "      <td>85.0</td>\n",
       "      <td>13.0</td>\n",
       "    </tr>\n",
       "    <tr>\n",
       "      <th>365</th>\n",
       "      <td>2012-12-31</td>\n",
       "      <td>-5.6</td>\n",
       "      <td>85</td>\n",
       "      <td>13</td>\n",
       "      <td>-5.6</td>\n",
       "      <td>85.0</td>\n",
       "      <td>13.0</td>\n",
       "    </tr>\n",
       "  </tbody>\n",
       "</table>\n",
       "<p>366 rows × 7 columns</p>\n",
       "</div>"
      ],
      "text/plain": [
       "           Date  Temp_C  Rel Hum_%  Wind Speed_km/h  target_tmp  target_hum  \\\n",
       "0    2012-01-01     0.6         86               13         0.0        63.0   \n",
       "1    2012-01-02     0.0         63               31       -14.4        55.0   \n",
       "2    2012-01-03   -14.4         55               22       -13.6        63.0   \n",
       "3    2012-01-04   -13.6         63               10        -6.8        70.0   \n",
       "4    2012-01-05    -6.8         70               12       -11.1        73.0   \n",
       "..          ...     ...        ...              ...         ...         ...   \n",
       "361  2012-12-27    -5.8         89               35        -6.8        83.0   \n",
       "362  2012-12-28    -6.8         83               18       -11.3        89.0   \n",
       "363  2012-12-29   -11.3         89               15       -11.4        80.0   \n",
       "364  2012-12-30   -11.4         80               22        -5.6        85.0   \n",
       "365  2012-12-31    -5.6         85               13        -5.6        85.0   \n",
       "\n",
       "     target_vent  \n",
       "0           31.0  \n",
       "1           22.0  \n",
       "2           10.0  \n",
       "3           12.0  \n",
       "4           17.0  \n",
       "..           ...  \n",
       "361         18.0  \n",
       "362         15.0  \n",
       "363         22.0  \n",
       "364         13.0  \n",
       "365         13.0  \n",
       "\n",
       "[366 rows x 7 columns]"
      ]
     },
     "execution_count": 8,
     "metadata": {},
     "output_type": "execute_result"
    }
   ],
   "source": [
    "daily_avg_temp"
   ]
  },
  {
   "cell_type": "markdown",
   "id": "ea672798",
   "metadata": {},
   "source": [
    "### LINEAR REGRESSION"
   ]
  },
  {
   "cell_type": "code",
   "execution_count": 9,
   "id": "2944c04a",
   "metadata": {},
   "outputs": [
    {
     "name": "stdout",
     "output_type": "stream",
     "text": [
      "Mean Squared Error (MSE): 13.830851551337044\n",
      "Root Mean Squared Error (RMSE): 3.7189852851735035\n",
      "Mean Absolute Error (MAE): 2.775234730776038\n",
      "R² Score: 0.6171729706703061\n"
     ]
    }
   ],
   "source": [
    "from sklearn.model_selection import train_test_split\n",
    "from sklearn.linear_model import LinearRegression\n",
    "from sklearn.metrics import mean_squared_error, mean_absolute_error, r2_score\n",
    "\n",
    "\n",
    "# Charger les données\n",
    "X_train = daily_avg_temp.drop(['Date','target_vent','target_hum','target_tmp'], axis=1).iloc[:300]  # Premières 8771 lignes pour l'entraînement\n",
    "y_train = daily_avg_temp['target_tmp'].iloc[:300]\n",
    "\n",
    "X_test = daily_avg_temp.drop(['Date','target_vent','target_hum','target_tmp'], axis=1).iloc[-66:]  # Dernières 12 lignes pour le test\n",
    "y_test = daily_avg_temp['target_tmp'].iloc[-66:]\n",
    "# Choisissez le modèle de régression (dans cet exemple, une régression linéaire)\n",
    "model = LinearRegression()\n",
    "\n",
    "# Entraînez le modèle sur les données d'entraînement\n",
    "model.fit(X_train, y_train)\n",
    "\n",
    "predictions = model.predict(X_test)\n",
    "\n",
    "mse = mean_squared_error(y_test, predictions)\n",
    "rmse = mean_squared_error(y_test, predictions, squared=False)  # RMSE\n",
    "mae = mean_absolute_error(y_test, predictions)\n",
    "r2 = r2_score(y_test, predictions)\n",
    "\n",
    "print('Mean Squared Error (MSE):', mse)\n",
    "print('Root Mean Squared Error (RMSE):', rmse)\n",
    "print('Mean Absolute Error (MAE):', mae)\n",
    "print('R² Score:', r2)\n"
   ]
  },
  {
   "cell_type": "code",
   "execution_count": 10,
   "id": "35d168d1",
   "metadata": {},
   "outputs": [
    {
     "name": "stdout",
     "output_type": "stream",
     "text": [
      "    Prédictions  Température Réelle\n",
      "0          13.5                11.3\n",
      "1          10.4                12.8\n",
      "2           7.1                16.5\n",
      "3          12.3                11.6\n",
      "4          11.7                 7.4\n",
      "..          ...                 ...\n",
      "61        -10.4                -6.8\n",
      "62         -6.7               -11.3\n",
      "63        -10.3               -11.4\n",
      "64        -11.9                -5.6\n",
      "65         -4.4                -5.6\n",
      "\n",
      "[66 rows x 2 columns]\n"
     ]
    }
   ],
   "source": [
    "import pandas as pd\n",
    "\n",
    "# Faites des prédictions sur les données de test\n",
    "predictions = model.predict(X_test)\n",
    "\n",
    "# Arrondir les prédictions et les valeurs réelles à une seule décimale\n",
    "predictions_rounded = [round(pred, 1) for pred in predictions]\n",
    "y_test_rounded = [round(real, 1) for real in y_test]\n",
    "\n",
    "# Afficher les prédictions et les valeurs réelles dans un DataFrame\n",
    "predictions_df = pd.DataFrame({'Prédictions': predictions_rounded, 'Température Réelle': y_test_rounded})\n",
    "print(predictions_df)\n"
   ]
  },
  {
   "cell_type": "markdown",
   "id": "c3ee15df",
   "metadata": {},
   "source": [
    "## prediction humidity"
   ]
  },
  {
   "cell_type": "code",
   "execution_count": 11,
   "id": "f61199cd",
   "metadata": {},
   "outputs": [
    {
     "name": "stdout",
     "output_type": "stream",
     "text": [
      "Mean Squared Error: 89.12965252202082\n",
      "Root Mean Squared Error: 9.440850201227684\n",
      "Mean Absolute Error: 7.357162322155458\n",
      "R² Score: 0.053495030654125975\n",
      "    Prédictions  Humidité Réelle\n",
      "0          75.4             76.0\n",
      "1          70.3             76.0\n",
      "2          64.7             75.0\n",
      "3          66.0             90.0\n",
      "4          79.4             85.0\n",
      "..          ...              ...\n",
      "61         73.0             83.0\n",
      "62         75.0             89.0\n",
      "63         79.4             80.0\n",
      "64         72.6             85.0\n",
      "65         77.5             85.0\n",
      "\n",
      "[66 rows x 2 columns]\n"
     ]
    }
   ],
   "source": [
    "from sklearn.model_selection import train_test_split\n",
    "from sklearn.ensemble import RandomForestRegressor\n",
    "from sklearn.metrics import mean_squared_error, mean_absolute_error, r2_score\n",
    "import pandas as pd\n",
    "\n",
    "# Divisez les données en ensembles d'entraînement et de test\n",
    "X1_train = daily_avg_temp.drop(['Date','target_hum','target_tmp','target_vent'], axis=1).iloc[:300]  # Premières 7991 lignes pour l'entraînement\n",
    "y1_train = daily_avg_temp['target_hum'].iloc[:300]\n",
    "\n",
    "X1_test = daily_avg_temp.drop(['Date','target_hum','target_tmp','target_vent'], axis=1).iloc[-66:]  # Dernières 768 lignes pour le test\n",
    "y1_test = daily_avg_temp['target_hum'].iloc[-66:]\n",
    "\n",
    "# Choisissez le modèle de régression (dans cet exemple, RandomForestRegressor)\n",
    "model1 =LinearRegression()\n",
    "\n",
    "# Entraînez le modèle sur les données d'entraînement\n",
    "model1.fit(X1_train, y1_train)\n",
    "\n",
    "# Faites des prédictions sur les données de test\n",
    "predictionss = model1.predict(X1_test)\n",
    "\n",
    "# Évaluez les performances du modèle\n",
    "mse1 = mean_squared_error(y1_test, predictionss)\n",
    "rmse1 = mse1 ** 0.5  # Root Mean Squared Error\n",
    "mae1 = mean_absolute_error(y1_test, predictionss)\n",
    "r21 = r2_score(y1_test, predictionss)\n",
    "\n",
    "print('Mean Squared Error:', mse1)\n",
    "print('Root Mean Squared Error:', rmse1)\n",
    "print('Mean Absolute Error:', mae1)\n",
    "print('R² Score:', r21)\n",
    "\n",
    "# Afficher les prédictions et les valeurs réelles dans un DataFrame\n",
    "predictions_df1 = pd.DataFrame({'Prédictions': [round(pred, 1) for pred in predictionss], \n",
    "                               'Humidité Réelle': [round(real, 1) for real in y1_test]})\n",
    "print(predictions_df1)\n"
   ]
  },
  {
   "cell_type": "markdown",
   "id": "ddbc6813",
   "metadata": {},
   "source": [
    "## PREDICTION VENT\n"
   ]
  },
  {
   "cell_type": "code",
   "execution_count": 12,
   "id": "9f47b819",
   "metadata": {},
   "outputs": [
    {
     "name": "stdout",
     "output_type": "stream",
     "text": [
      "Mean Squared Error: 47.14195258015155\n",
      "Root Mean Squared Error: 6.865999750957726\n",
      "Mean Absolute Error: 5.514109453174387\n",
      "R² Score: 0.13731753702516758\n"
     ]
    }
   ],
   "source": [
    "from sklearn.metrics import mean_squared_error, mean_absolute_error, r2_score\n",
    "\n",
    "# Charger les données\n",
    "X2_train = daily_avg_temp.drop(['Date','target_vent','target_tmp','target_hum'], axis=1).iloc[:300]\n",
    "y2_train = daily_avg_temp['target_vent'].iloc[:300]\n",
    "\n",
    "X2_test = daily_avg_temp.drop(['Date','target_vent','target_tmp','target_hum'], axis=1).iloc[-66:]\n",
    "y2_test = daily_avg_temp['target_vent'].iloc[-66:]\n",
    "\n",
    "model2 =LinearRegression()\n",
    "\n",
    "model2.fit(X2_train, y2_train)\n",
    "\n",
    "# Faire des prédictions sur l'ensemble de test\n",
    "predictions2 = model2.predict(X2_test)\n",
    "\n",
    "# Calculer les métriques de régression\n",
    "mse2 = mean_squared_error(y2_test, predictions2)\n",
    "rmse2 = mse2 ** 0.5  # Root Mean Squared Error\n",
    "mae2 = mean_absolute_error(y2_test, predictions2)\n",
    "r22 = r2_score(y2_test, predictions2)\n",
    "\n",
    "# Afficher les métriques de régression\n",
    "print('Mean Squared Error:', mse2)\n",
    "print('Root Mean Squared Error:', rmse2)\n",
    "print('Mean Absolute Error:', mae2)\n",
    "print('R² Score:', r22)\n"
   ]
  },
  {
   "cell_type": "code",
   "execution_count": 13,
   "id": "fc76db73",
   "metadata": {},
   "outputs": [
    {
     "name": "stdout",
     "output_type": "stream",
     "text": [
      "     Prédictions  vent speed\n",
      "300           14          17\n",
      "301           15          35\n",
      "302           20          28\n",
      "303           18          11\n",
      "304           15          13\n",
      "..           ...         ...\n",
      "361           22          18\n",
      "362           17          15\n",
      "363           17          22\n",
      "364           18          13\n",
      "365           16          13\n",
      "\n",
      "[66 rows x 2 columns]\n"
     ]
    }
   ],
   "source": [
    "# Afficher les prédictions et les valeurs réelles\n",
    "predictions2 = pd.DataFrame({'Prédictions': predictions2, 'vent speed': y2_test})\n",
    "predictions2 = predictions2.astype(int)\n",
    "print(predictions2)\n"
   ]
  },
  {
   "cell_type": "markdown",
   "id": "89563672",
   "metadata": {},
   "source": [
    "## predict 10 days"
   ]
  },
  {
   "cell_type": "code",
   "execution_count": 14,
   "id": "46b95ea4",
   "metadata": {},
   "outputs": [
    {
     "name": "stderr",
     "output_type": "stream",
     "text": [
      "C:\\Users\\User\\AppData\\Local\\Temp\\ipykernel_1088\\941825316.py:19: FutureWarning: The behavior of DataFrame concatenation with empty or all-NA entries is deprecated. In a future version, this will no longer exclude empty or all-NA columns when determining the result dtypes. To retain the old behavior, exclude the relevant entries before the concat operation.\n",
      "  all_predictionss = pd.concat([all_predictionss, new_data], ignore_index=True)\n"
     ]
    },
    {
     "name": "stdout",
     "output_type": "stream",
     "text": [
      "          Date Temp_C Rel Hum_% Wind Speed_km/h\n",
      "0   2024-05-27      7        86              13\n",
      "1   2024-05-28    7.1        77              15\n",
      "2   2024-05-29    7.0        71              15\n",
      "3   2024-05-30    7.1        68              15\n",
      "4   2024-05-31    7.3        67              15\n",
      "5   2024-06-01    7.5        66              15\n",
      "6   2024-06-02    7.7        65              14\n",
      "7   2024-06-03    8.2        65              14\n",
      "8   2024-06-04    8.6        65              14\n",
      "9   2024-06-05    9.0        65              14\n",
      "10  2024-06-06    9.4        65              14\n"
     ]
    }
   ],
   "source": [
    "import pandas as pd\n",
    "import numpy as np\n",
    "\n",
    "# Supposons que new_data est votre dataframe d'origine\n",
    "new_data = pd.DataFrame({\n",
    "    'Date': ['2024-05-27'],  # Date de départ spécifiée\n",
    "    'Temp_C': [7],\n",
    "    'Rel Hum_%': [86],\n",
    "    'Wind Speed_km/h': [13]\n",
    "})\n",
    "\n",
    "new_data['Date'] = pd.to_datetime(new_data['Date'])\n",
    "\n",
    "# Nombre de jours à prédire\n",
    "days_to_predict = 10\n",
    "\n",
    "# Créer un dataframe pour stocker toutes les prédictions\n",
    "all_predictionss = pd.DataFrame(columns=['Date', 'Temp_C', 'Rel Hum_%', 'Wind Speed_km/h'])\n",
    "all_predictionss = pd.concat([all_predictionss, new_data], ignore_index=True)\n",
    "\n",
    "# Copier les données d'origine pour le processus de prédiction\n",
    "data = new_data.copy()\n",
    "\n",
    "for day in range(1, days_to_predict + 1):  \n",
    "    # Prédire les valeurs pour le prochain jour\n",
    "    prediction_vent = model2.predict(data.drop(['Date'], axis=1))\n",
    "    prediction_hum = model1.predict(data.drop(['Date'], axis=1))\n",
    "    prediction_tmp = model.predict(data.drop(['Date'], axis=1))\n",
    "    \n",
    "    temp_formatted = [format(temp, '.1f') for temp in prediction_tmp.flatten()]\n",
    "\n",
    "    # Stocker les prédictions dans un dataframe temporaire\n",
    "    temp_df = pd.DataFrame({\n",
    "        'Date': [pd.to_datetime(data['Date'].iloc[0]) + pd.DateOffset(days=1)],  # Incrémenter la date\n",
    "        'Temp_C': temp_formatted,\n",
    "        'Rel Hum_%': prediction_hum.flatten().astype(int),\n",
    "        'Wind Speed_km/h': prediction_vent.flatten().astype(int)\n",
    "    })\n",
    "    \n",
    "    # Ajouter la nouvelle ligne à all_predictions\n",
    "    all_predictionss = pd.concat([all_predictionss, temp_df], ignore_index=True)\n",
    "\n",
    "    # Mettre à jour les données d'entrée pour la prochaine prédiction\n",
    "    data = pd.concat([data, temp_df], ignore_index=True)\n",
    "    data = data.iloc[1:]\n",
    "all_predictionss['Date'] = all_predictionss['Date'].dt.strftime('%Y-%m-%d')\n",
    "\n",
    "# Afficher toutes les prédictions\n",
    "print(all_predictionss)\n"
   ]
  },
  {
   "cell_type": "code",
   "execution_count": 15,
   "id": "6f7fe5e0",
   "metadata": {},
   "outputs": [
    {
     "name": "stdout",
     "output_type": "stream",
     "text": [
      "Prédiction pour Date 2024-05-27 insérée avec succès dans MongoDB.\n",
      "Prédiction pour Date 2024-05-28 insérée avec succès dans MongoDB.\n",
      "Prédiction pour Date 2024-05-29 insérée avec succès dans MongoDB.\n",
      "Prédiction pour Date 2024-05-30 insérée avec succès dans MongoDB.\n",
      "Prédiction pour Date 2024-05-31 insérée avec succès dans MongoDB.\n",
      "Prédiction pour Date 2024-06-01 insérée avec succès dans MongoDB.\n",
      "Prédiction pour Date 2024-06-02 insérée avec succès dans MongoDB.\n",
      "Prédiction pour Date 2024-06-03 insérée avec succès dans MongoDB.\n",
      "Prédiction pour Date 2024-06-04 insérée avec succès dans MongoDB.\n",
      "Prédiction pour Date 2024-06-05 insérée avec succès dans MongoDB.\n",
      "Prédiction pour Date 2024-06-06 insérée avec succès dans MongoDB.\n"
     ]
    }
   ],
   "source": [
    "from pymongo import MongoClient\n",
    "import pandas as pd\n",
    "\n",
    "# Connexion à MongoDB\n",
    "client = MongoClient(\"mongodb://localhost:27017/\")\n",
    "db = client[\"station_meteorologique\"]\n",
    "collection = db[\"predict 10 days\"]\n",
    "\n",
    "# Itérer sur le DataFrame et insérer chaque ligne dans la collection MongoDB\n",
    "for index, row in all_predictionss.iterrows():\n",
    "    prediction_doc = {\n",
    "        \"Date/Time\": row[\"Date\"],\n",
    "        \"Temp_C\": row[\"Temp_C\"],\n",
    "        \"Rel Hum_%\": row[\"Rel Hum_%\"],\n",
    "        \"Wind Speed_km/h\": row[\"Wind Speed_km/h\"],\n",
    "    }\n",
    "\n",
    "    # Insérer le document de prédiction dans la collection MongoDB\n",
    "    insert_result = collection.insert_one(prediction_doc)\n",
    "    \n",
    "    # Vérifier le résultat de l'insertion\n",
    "    if insert_result.acknowledged:\n",
    "       print(f\"Prédiction pour Date {row['Date']} insérée avec succès dans MongoDB.\")\n",
    "    else:\n",
    "       print(f\"Erreur lors de l'insertion de la prédiction pour Date {row['Date']} dans MongoDB.\")\n",
    "       print(\"Détails de l'erreur:\", insert_result.raw_result)\n"
   ]
  }
 ],
 "metadata": {
  "kernelspec": {
   "display_name": "Python 3 (ipykernel)",
   "language": "python",
   "name": "python3"
  },
  "language_info": {
   "codemirror_mode": {
    "name": "ipython",
    "version": 3
   },
   "file_extension": ".py",
   "mimetype": "text/x-python",
   "name": "python",
   "nbconvert_exporter": "python",
   "pygments_lexer": "ipython3",
   "version": "3.11.9"
  }
 },
 "nbformat": 4,
 "nbformat_minor": 5
}
